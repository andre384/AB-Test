{
 "cells": [
  {
   "cell_type": "markdown",
   "metadata": {},
   "source": [
    "Organizers of a local fitness club have heard about a new popular diet that claims to improve fitness performance. \n",
    "The have decided that they want to find out if the diet does work. They design an AB Test that can disprove \n",
    "the health claims. Email invitations are sent out to all goup members and many want to help with the experiment. All members \n",
    "agree to a metric which measures the amount of an athletic activity. Each person in the experiment records their own athletic \n",
    "activity and diet for a month. At the end of the month there is a test and results are recorded. Organizers notice that only 10% of people have sufficient results necessary to be labeled successful. Organizers hope to see the success rate double with the new diet. For the experiment half of the volunteers are told to keep the same exercise routine to exclude bias but half start the diet. Results are recorded and analyzed at the end of the experiment.\n"
   ]
  },
  {
   "cell_type": "code",
   "execution_count": 1,
   "metadata": {},
   "outputs": [],
   "source": [
    "#Import python libraries\n",
    "import numpy as np\n",
    "from numpy import random\n",
    "import pandas as pd\n",
    "import scipy as sp\n",
    "import statsmodels.stats.api as sm\n",
    "from statsmodels.stats.proportion import proportions_ztest, proportion_confint\n",
    "#import matplotlib as mpl\n",
    "import matplotlib.pyplot as plt\n",
    "import seaborn as sns\n",
    "sns.set()\n",
    "import math, datetime, random\n",
    "from datetime import date,time,timedelta\n"
   ]
  },
  {
   "cell_type": "code",
   "execution_count": 2,
   "metadata": {},
   "outputs": [
    {
     "name": "stdout",
     "output_type": "stream",
     "text": [
      "Effect Size:  -0.2837941092083278\n",
      "Minimum N:  195\n"
     ]
    }
   ],
   "source": [
    "#Determine the minimum number of sample for the results to be significant\n",
    "effectSize = sm.proportion_effectsize(0.1, 0.2)\n",
    "\n",
    "min_n = sm.NormalIndPower().solve_power(\n",
    "    effectSize, \n",
    "    power=0.8, \n",
    "    alpha=0.05, \n",
    "    ratio=1\n",
    "    ) \n",
    "min_n=math.ceil(min_n)\n",
    "print('Effect Size: ',effectSize)\n",
    "print('Minimum N: ',min_n)"
   ]
  },
  {
   "cell_type": "code",
   "execution_count": 3,
   "metadata": {},
   "outputs": [
    {
     "name": "stdout",
     "output_type": "stream",
     "text": [
      "number of volunteers:  594\n",
      "number of ids:  594\n"
     ]
    }
   ],
   "source": [
    "#Create initial dataset\n",
    "total=np.arange(1,1001)\n",
    "\n",
    "volunteers=random.randint(min_n*2,1000)\n",
    "vhalf=volunteers//2\n",
    "volunteers=vhalf*2\n",
    "print('number of volunteers: ',volunteers)\n",
    "\n",
    "memberid=np.random.choice(total,size=volunteers,replace=False)\n",
    "print('number of ids: ',memberid.size)\n",
    "\n"
   ]
  },
  {
   "cell_type": "code",
   "execution_count": 5,
   "metadata": {},
   "outputs": [
    {
     "name": "stdout",
     "output_type": "stream",
     "text": [
      "asuccsess:  37\n",
      "bsuccess:  60\n"
     ]
    }
   ],
   "source": [
    "#Half of the volunteers are the control group and other half has the diet\n",
    "\n",
    "#create 50/50 control/treatment label list\n",
    "a=np.full(vhalf,'control',dtype=(str,7))\n",
    "b=np.full(vhalf,'treatment',dtype=(str,9))\n",
    "\n",
    "#create success rate for each group\n",
    "asuccess=np.random.choice([0,1],size=vhalf,p=[.9,.1])\n",
    "bsuccess=np.random.choice([0,1],size=vhalf,p=[.8,.2]) \n",
    "\n",
    "#concatenate the seperate arrays\n",
    "group=np.concatenate((a,b),axis=0)\n",
    "success=np.concatenate((asuccess,bsuccess),axis=0)\n",
    "\n",
    "\n",
    "print('asuccsess: ',np.count_nonzero(asuccess==1))\n",
    "print('bsuccess: ',np.count_nonzero(bsuccess==1))\n",
    "\n"
   ]
  },
  {
   "cell_type": "code",
   "execution_count": 6,
   "metadata": {},
   "outputs": [
    {
     "name": "stdout",
     "output_type": "stream",
     "text": [
      "      Id      Group  Success\n",
      "0     40    control        0\n",
      "1    719    control        0\n",
      "2    412    control        0\n",
      "3    945    control        0\n",
      "4    203    control        0\n",
      "..   ...        ...      ...\n",
      "589  907  treatment        0\n",
      "590  838  treatment        0\n",
      "591  393  treatment        0\n",
      "592  112  treatment        0\n",
      "593  508  treatment        0\n",
      "\n",
      "[594 rows x 3 columns]\n"
     ]
    }
   ],
   "source": [
    "#Add id numbers, group, and performance metric into DataFrame\n",
    "df=pd.DataFrame()\n",
    "df['Id']=memberid\n",
    "df['Group']=group\n",
    "df['Success']=success\n",
    "\n",
    "print(df)"
   ]
  },
  {
   "cell_type": "code",
   "execution_count": 7,
   "metadata": {},
   "outputs": [
    {
     "name": "stdout",
     "output_type": "stream",
     "text": [
      "length of control: 195\n",
      "length of treatment: 195\n"
     ]
    }
   ],
   "source": [
    "#Split dataframe into control and treatment sample with the minimun n amount\n",
    "control = df[df['Group'] == 'control'].sample(n=min_n)\n",
    "treatment = df[df['Group'] == 'treatment'].sample(n=min_n)\n",
    "\n",
    "#Contenate control and treatment into sample dataframe\n",
    "sample=pd.concat([control,treatment],axis=0)\n",
    "sample.reset_index(inplace=True)\n",
    "\n",
    "print('length of control:',len(control))\n",
    "print('length of treatment:',len(treatment))\n",
    "\n"
   ]
  },
  {
   "cell_type": "code",
   "execution_count": 12,
   "metadata": {},
   "outputs": [
    {
     "name": "stdout",
     "output_type": "stream",
     "text": [
      "control error: 0.024405884404899936  treatment error: 0.027855716655754186\n"
     ]
    }
   ],
   "source": [
    "#Number of success for control and treatment\n",
    "xco=control['Success'].value_counts()[1]\n",
    "xtr=treatment['Success'].value_counts()[1]\n",
    "\n",
    "phat1=xco/min_n\n",
    "phat2=xtr/min_n\n",
    "\n",
    "#Standard Error for control and treatment\n",
    "secontrol=sp.stats.sem(control['Success'])\n",
    "setreatment=sp.stats.sem(treatment['Success'])\n",
    "print('control error:',secontrol,' treatment error:',setreatment)"
   ]
  },
  {
   "cell_type": "code",
   "execution_count": 13,
   "metadata": {},
   "outputs": [
    {
     "name": "stdout",
     "output_type": "stream",
     "text": [
      "           SuccessRate  StandardDeviation  StandardError\n",
      "control       0.133333           0.339935       0.024406\n",
      "treatment     0.184615           0.387985       0.027856\n"
     ]
    }
   ],
   "source": [
    "#Display control/treatment group comparison\n",
    "successrate=[phat1,phat2]\n",
    "standarddev=[np.std(control.Success),np.std(treatment.Success)]\n",
    "standarderr=[secontrol,setreatment]\n",
    "metric=pd.DataFrame(index=['control','treatment'])\n",
    "metric['SuccessRate']=successrate\n",
    "metric['StandardDeviation']=standarddev\n",
    "metric['StandardError']=standarderr\n",
    "print(metric)"
   ]
  },
  {
   "cell_type": "code",
   "execution_count": 16,
   "metadata": {},
   "outputs": [
    {
     "data": {
      "text/plain": [
       "<AxesSubplot:title={'center':'Success Rate by Group'}, xlabel='Group', ylabel='Success'>"
      ]
     },
     "execution_count": 16,
     "metadata": {},
     "output_type": "execute_result"
    },
    {
     "data": {
      "image/png": "[encoded data removed]",
      "text/plain": [
       "<Figure size 864x576 with 1 Axes>"
      ]
     },
     "metadata": {},
     "output_type": "display_data"
    }
   ],
   "source": [
    "#Display Success Rate Graph\n",
    "plt.figure(figsize=(12,8))\n",
    "plt.title('Success Rate by Group')\n",
    "plt.xlabel('Group')\n",
    "plt.ylabel('Success Rate')\n",
    "sns.barplot(x=sample.Group,y=sample.Success, ci=None)"
   ]
  },
  {
   "cell_type": "code",
   "execution_count": 15,
   "metadata": {},
   "outputs": [
    {
     "name": "stdout",
     "output_type": "stream",
     "text": [
      "z statistic: 1.384839801055321\n",
      "p value: 0.16610145772423712\n",
      "confidence interval for control:  0.0856214895008758 0.18104517716579088\n",
      "confidence interval for treatment:  0.1301593534029407 0.23907141582782857\n"
     ]
    }
   ],
   "source": [
    "#Print out final results\n",
    "successes=[xco,xtr]\n",
    "obsnum=[min_n,min_n]\n",
    "z, p = proportions_ztest(successes, nobs=obsnum)\n",
    "(lower_co, lower_tr), (upper_co, upper_tr) = proportion_confint(successes, nobs=obsnum, alpha=0.05)\n",
    "\n",
    "print('z statistic:',abs(z))\n",
    "print('p value:',p)\n",
    "print('confidence interval for control: ',lower_co,upper_co)\n",
    "print('confidence interval for treatment: ',lower_tr,upper_tr)"
   ]
  },
  {
   "cell_type": "markdown",
   "metadata": {},
   "source": [
    "There is an increase of about 5% in success rate for the treatment group. But our hypothesis states that the diet would double the number of people reaching the athletic performance metric to 20%. The p value of .16 which is greater than .05 shows that there is not enough confidence in the data to confirm the initial hypothesis."
   ]
  }
 ],
 "metadata": {
  "kernelspec": {
   "display_name": "Python 3",
   "language": "python",
   "name": "python3"
  },
  "language_info": {
   "codemirror_mode": {
    "name": "ipython",
    "version": 3
   },
   "file_extension": ".py",
   "mimetype": "text/x-python",
   "name": "python",
   "nbconvert_exporter": "python",
   "pygments_lexer": "ipython3",
   "version": "3.8.5"
  }
 },
 "nbformat": 4,
 "nbformat_minor": 4
}
