{
 "cells": [
  {
   "cell_type": "markdown",
   "metadata": {},
   "source": [
    "A SaaS company has a website where customers can signup for their service on a monthly basis. The marketing team wants to know if offering 50% off the service for the first month to randomly selected customers will increase the number of subscriptions and if this will be profitable long term. Currently the rate of people who subscribe after browsing the product page is 25%. The team wants to see if an AB test can show a lift of 5% to a subscribe rate of 30%. "
   ]
  },
  {
   "cell_type": "code",
   "execution_count": 23,
   "metadata": {},
   "outputs": [],
   "source": [
    "import numpy as np\n",
    "from numpy import random\n",
    "import pandas as pd\n",
    "import scipy as sp\n",
    "import statsmodels.stats.api as sm\n",
    "from statsmodels.stats.proportion import proportions_ztest, proportion_confint\n",
    "#import matplotlib as mpl\n",
    "import matplotlib.pyplot as plt\n",
    "import seaborn as sns\n",
    "sns.set()\n",
    "import math, datetime, random\n",
    "from datetime import date,time,timedelta"
   ]
  },
  {
   "cell_type": "code",
   "execution_count": 24,
   "metadata": {},
   "outputs": [
    {
     "name": "stdout",
     "output_type": "stream",
     "text": [
      "Effect Size:  -0.11208192953081064\n",
      "Minimum N:  1250\n"
     ]
    }
   ],
   "source": [
    "#Find minimum of website visits for significant results\n",
    "effectSize = sm.proportion_effectsize(0.25, 0.3)\n",
    "\n",
    "min_n = sm.NormalIndPower().solve_power(\n",
    "    effectSize, \n",
    "    power=0.8, \n",
    "    alpha=0.05, \n",
    "    ratio=1\n",
    "    ) \n",
    "min_n=math.ceil(min_n)\n",
    "print('Effect Size: ',effectSize)\n",
    "print('Minimum N: ',min_n)"
   ]
  },
  {
   "cell_type": "code",
   "execution_count": 25,
   "metadata": {},
   "outputs": [
    {
     "name": "stdout",
     "output_type": "stream",
     "text": [
      "42182\n"
     ]
    },
    {
     "name": "stderr",
     "output_type": "stream",
     "text": [
      "C:\\Users\\re487\\anaconda3\\lib\\site-packages\\pandas\\core\\arrays\\datetimelike.py:1189: PerformanceWarning: Adding/subtracting object-dtype array to TimedeltaArray not vectorized.\n",
      "  warnings.warn(\n"
     ]
    },
    {
     "name": "stdout",
     "output_type": "stream",
     "text": [
      "          Days        Date      Time            DateTime  Subscribe\n",
      "0     320 days  2019-03-17  12:21:54 2019-03-17 12:21:54          0\n",
      "1     161 days  2018-10-09  15:08:37 2018-10-09 15:08:37          0\n",
      "2     175 days  2018-10-23  11:23:35 2018-10-23 11:23:35          1\n",
      "3     123 days  2018-09-01  10:57:41 2018-09-01 10:57:41          0\n",
      "4     156 days  2018-10-04  16:22:10 2018-10-04 16:22:10          0\n",
      "...        ...         ...       ...                 ...        ...\n",
      "42177 247 days  2019-01-03  10:28:46 2019-01-03 10:28:46          0\n",
      "42178 104 days  2018-08-13  07:19:18 2018-08-13 07:19:18          0\n",
      "42179 211 days  2018-11-28  06:57:37 2018-11-28 06:57:37          0\n",
      "42180 211 days  2018-11-28  08:35:20 2018-11-28 08:35:20          0\n",
      "42181 184 days  2018-11-01  14:38:16 2018-11-01 14:38:16          0\n",
      "\n",
      "[42182 rows x 5 columns]\n"
     ]
    }
   ],
   "source": [
    "#Create data to simulate past 12 months of subscription data\n",
    "visits=random.randint(40000,45000)\n",
    "idnum=np.arange(1,visits+1)\n",
    "startdate=date(2018,5,1)\n",
    "enddate=date(2019,4,30)\n",
    "daysbetween=enddate-startdate\n",
    "daynum=np.arange(daysbetween.days)\n",
    "visitdays=np.random.choice(daynum,size=visits)\n",
    "\n",
    "visittime=np.random.normal(loc=12, scale=3.0, size=visits)\n",
    "negative = visittime < 0\n",
    "maxtime=visittime>24\n",
    "\n",
    "visittime[negative]=0\n",
    "visittime[maxtime]=24\n",
    "negative = visittime < 0\n",
    "maxtime=visittime>24\n",
    "\n",
    "sec=visittime*3600\n",
    "sec=sec.astype(int)\n",
    "t=pd.to_timedelta(sec, unit='S', errors='raise')\n",
    "\n",
    "daytime=pd.DataFrame()\n",
    "daytime['Days']=visitdays\n",
    "\n",
    "daytime['Days']=pd.to_timedelta(daytime['Days'], unit='D', errors='raise')\n",
    "start=np.full(visits,startdate)\n",
    "daytime['Date']=daytime['Days']+start\n",
    "\n",
    "daytime['Time']=t\n",
    "daytime['Time']=daytime['Time'].astype('string')\n",
    "daytime['Time']=daytime['Time'].str.slice(start=7)\n",
    "daytime['Date']=daytime['Date'].astype('string')\n",
    "daytime['DateTime']=pd.to_datetime(daytime['Date'] + daytime['Time'], format='%Y-%m-%d%H:%M:%S')\n",
    "\n",
    "subscribed=np.random.choice([0,1],size=visits,p=[.75,.25])\n",
    "daytime['Subscribe']=subscribed\n",
    "print(daytime)"
   ]
  },
  {
   "cell_type": "code",
   "execution_count": 39,
   "metadata": {},
   "outputs": [
    {
     "name": "stdout",
     "output_type": "stream",
     "text": [
      "                DateTime      Group  Subscribed\n",
      "0    2019-05-07 12:58:33    control           0\n",
      "1    2019-05-03 05:09:07    control           0\n",
      "2    2019-05-31 16:12:27    control           0\n",
      "3    2019-05-21 13:25:22    control           0\n",
      "4    2019-05-06 09:27:03    control           0\n",
      "...                  ...        ...         ...\n",
      "3509 2019-05-30 08:10:00  treatment           0\n",
      "3510 2019-05-16 13:02:39  treatment           1\n",
      "3511 2019-05-21 18:25:22  treatment           0\n",
      "3512 2019-05-11 09:05:53  treatment           0\n",
      "3513 2019-05-21 10:58:47  treatment           0\n",
      "\n",
      "[3514 rows x 3 columns]\n"
     ]
    },
    {
     "name": "stderr",
     "output_type": "stream",
     "text": [
      "C:\\Users\\re487\\anaconda3\\lib\\site-packages\\pandas\\core\\arrays\\datetimelike.py:1189: PerformanceWarning: Adding/subtracting object-dtype array to TimedeltaArray not vectorized.\n",
      "  warnings.warn(\n"
     ]
    }
   ],
   "source": [
    "#Create data to simulate experiment\n",
    "month=visits/12\n",
    "month2=int(month//2)\n",
    "month=int(month2*2)\n",
    "expdays=np.arange(1,32)\n",
    "\n",
    "actualdays=np.random.choice(expdays,size=month)\n",
    "df=pd.DataFrame()\n",
    "df['Days']=pd.to_timedelta(actualdays, unit='D', errors='raise')\n",
    "start2=np.full(month,enddate)\n",
    "df['Date']=df['Days']+start2\n",
    "\n",
    "\n",
    "visittime2=np.random.normal(loc=12, scale=3.0, size=month)\n",
    "negative = visittime2 < 0\n",
    "maxtime=visittime2>24\n",
    "visittime2[negative]=0\n",
    "visittime2[maxtime]=24\n",
    "negative = visittime2 < 0\n",
    "maxtime=visittime2>24\n",
    "\n",
    "sec=visittime2*3600\n",
    "sec=sec.astype(int)\n",
    "t2=pd.to_timedelta(sec, unit='S', errors='raise')\n",
    "df['Time']=t2\n",
    "df['Time']=df['Time'].astype('string')\n",
    "df['Time']=df['Time'].str.slice(start=7)\n",
    "df['Date']=df['Date'].astype('string')\n",
    "df['DateTime']=pd.to_datetime(df['Date'] + df['Time'], format='%Y-%m-%d%H:%M:%S')\n",
    "\n",
    "#Create 50/50 control/treatment label list\n",
    "a=np.full(month2,'control',dtype=(str,7))\n",
    "b=np.full(month2,'treatment',dtype=(str,9))\n",
    "\n",
    "#Create success rate for each group\n",
    "asubscribed=np.random.choice([0,1],size=month2,p=[.75,.25])\n",
    "bsubscribed=np.random.choice([0,1],size=month2,p=[.7,.3]) \n",
    "\n",
    "#Concatenate the seperate arrays\n",
    "group=np.concatenate((a,b),axis=0)\n",
    "subscribed=np.concatenate((asubscribed,bsubscribed),axis=0)\n",
    "\n",
    "df['Group']=group\n",
    "df['Subscribed']=subscribed\n",
    "df.drop(columns=['Date', 'Days','Time'],inplace=True)\n",
    "\n",
    "print(df)"
   ]
  },
  {
   "cell_type": "code",
   "execution_count": 40,
   "metadata": {},
   "outputs": [
    {
     "name": "stdout",
     "output_type": "stream",
     "text": [
      "length of control: 1250\n",
      "length of treatment: 1250\n"
     ]
    }
   ],
   "source": [
    "#Split dataframe into control and treatment sample with the minimun n amount\n",
    "control = df[df['Group'] == 'control'].sample(n=min_n)\n",
    "treatment = df[df['Group'] == 'treatment'].sample(n=min_n)\n",
    "\n",
    "#Contenate control and treatment into sample dataframe\n",
    "sample=pd.concat([control,treatment],axis=0)\n",
    "sample.reset_index(inplace=True)\n",
    "\n",
    "print('length of control:',len(control))\n",
    "print('length of treatment:',len(treatment))\n",
    "\n"
   ]
  },
  {
   "cell_type": "code",
   "execution_count": 41,
   "metadata": {},
   "outputs": [],
   "source": [
    "#Number of subscriptions for control and treatment\n",
    "xco=control['Subscribed'].value_counts()[1]\n",
    "xtr=treatment['Subscribed'].value_counts()[1]\n",
    "\n",
    "#subscribe rate for control and treatment\n",
    "phat1=xco/min_n\n",
    "phat2=xtr/min_n\n",
    "dhat=phat2-phat1\n",
    "\n",
    "#Standard Error for control and treatment\n",
    "secontrol=sp.stats.sem(control['Subscribed'])\n",
    "setreatment=sp.stats.sem(treatment['Subscribed'])\n"
   ]
  },
  {
   "cell_type": "code",
   "execution_count": 42,
   "metadata": {},
   "outputs": [
    {
     "name": "stdout",
     "output_type": "stream",
     "text": [
      "           SubscribeRate  StandardDeviation  StandardError\n",
      "control            0.256           0.436422       0.012349\n",
      "treatment          0.312           0.463310       0.013110\n"
     ]
    }
   ],
   "source": [
    "#Display control/treatment group comparison\n",
    "subscriberate=[phat1,phat2]\n",
    "standarddev=[np.std(control.Subscribed),np.std(treatment.Subscribed)]\n",
    "standarderr=[secontrol,setreatment]\n",
    "metric=pd.DataFrame(index=['control','treatment'])\n",
    "metric['SubscribeRate']=subscriberate\n",
    "metric['StandardDeviation']=standarddev\n",
    "metric['StandardError']=standarderr\n",
    "print(metric)"
   ]
  },
  {
   "cell_type": "code",
   "execution_count": 46,
   "metadata": {},
   "outputs": [
    {
     "data": {
      "text/plain": [
       "<AxesSubplot:title={'center':'Subscribe Rate by Group'}, xlabel='Group', ylabel='Subscribed'>"
      ]
     },
     "execution_count": 46,
     "metadata": {},
     "output_type": "execute_result"
    },
    {
     "data": {
      "image/png": "[encoded data removed]",
      "text/plain": [
       "<Figure size 864x576 with 1 Axes>"
      ]
     },
     "metadata": {},
     "output_type": "display_data"
    }
   ],
   "source": [
    "#Plot Subscription Rate Graph\n",
    "plt.figure(figsize=(12,8))\n",
    "plt.title('Subscribe Rate by Group')\n",
    "plt.xlabel('Group')\n",
    "plt.ylabel('Subscribe Rate')\n",
    "sns.barplot(x=sample.Group,y=sample.Subscribed, ci=None)"
   ]
  },
  {
   "cell_type": "code",
   "execution_count": 45,
   "metadata": {},
   "outputs": [
    {
     "name": "stdout",
     "output_type": "stream",
     "text": [
      "z statistic: 3.104647905689466\n",
      "p value: 0.0019050565307317756\n",
      "confidence interval for control:  0.23180645354108353 0.2801935464589165\n",
      "confidence interval for treatment:  0.2863158853044935 0.3376841146955065\n"
     ]
    }
   ],
   "source": [
    "#Print out final results\n",
    "subscription=[xco,xtr]\n",
    "obsnum=[min_n,min_n]\n",
    "z, p = proportions_ztest(subscription, nobs=obsnum)\n",
    "(lower_co, lower_tr), (upper_co, upper_tr) = proportion_confint(subscription, nobs=obsnum, alpha=0.05)\n",
    "\n",
    "print('z statistic:',abs(z))\n",
    "print('p value:',p)\n",
    "print('confidence interval for control: ',lower_co,upper_co)\n",
    "print('confidence interval for treatment: ',lower_tr,upper_tr)"
   ]
  },
  {
   "cell_type": "markdown",
   "metadata": {},
   "source": [
    "There was greater than 5% increase in the subscription rate and a very low p value. This confirms our hypotheis that the 50% off discount will increase subscriptions. There is more subscriptions but this may not translate to revenue increase. If there is low customer retention then the company may lose revenue. Other steps for analysis would be to estimate the average customer retention rate and best discount amount to increase revenue."
   ]
  }
 ],
 "metadata": {
  "kernelspec": {
   "display_name": "Python 3",
   "language": "python",
   "name": "python3"
  },
  "language_info": {
   "codemirror_mode": {
    "name": "ipython",
    "version": 3
   },
   "file_extension": ".py",
   "mimetype": "text/x-python",
   "name": "python",
   "nbconvert_exporter": "python",
   "pygments_lexer": "ipython3",
   "version": "3.8.5"
  }
 },
 "nbformat": 4,
 "nbformat_minor": 4
}
